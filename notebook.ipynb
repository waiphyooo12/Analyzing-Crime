{
 "cells": [
  {
   "cell_type": "code",
   "execution_count": 101,
   "id": "7c6c3c36-5c8b-4cce-8681-95292b8f0861",
   "metadata": {
    "executionCancelledAt": null,
    "executionTime": 301,
    "lastExecutedAt": 1751470726475,
    "lastExecutedByKernel": "960557bc-2175-48b0-9d62-cd65df20081e",
    "lastScheduledRunId": null,
    "lastSuccessfullyExecutedCode": "# Re-run this cell\n# Import required libraries\nimport pandas as pd\nimport numpy as np\nimport matplotlib.pyplot as plt\nimport seaborn as sns\ncrimes = pd.read_csv(\"crimes.csv\", dtype={\"TIME OCC\": str})\ncrimes.head()",
    "outputsMetadata": {
     "0": {
      "height": 263,
      "tableState": {
       "customFilter": {
        "const": {
         "type": "boolean",
         "valid": true,
         "value": true
        },
        "id": "c786015c-1314-4962-86ec-302bcebc6886",
        "nodeType": "const"
       },
       "quickFilterText": ""
      },
      "type": "dataFrame"
     }
    }
   },
   "outputs": [
    {
     "data": {
      "application/com.datacamp.data-table.v2+json": {
       "table": {
        "data": {
         "AREA NAME": [
          "Southwest",
          "Olympic",
          "Hollywood",
          "77th Street",
          "Rampart"
         ],
         "Crm Cd Desc": [
          "THEFT OF IDENTITY",
          "THEFT OF IDENTITY",
          "THEFT OF IDENTITY",
          "THEFT OF IDENTITY",
          "THEFT OF IDENTITY"
         ],
         "DATE OCC": [
          "2020-05-12",
          "2020-06-04",
          "2020-08-17",
          "2020-01-27",
          "2020-07-14"
         ],
         "DR_NO": [
          220314085,
          222013040,
          220614831,
          231207725,
          220213256
         ],
         "Date Rptd": [
          "2022-07-22",
          "2022-08-06",
          "2022-08-18",
          "2023-02-27",
          "2022-07-14"
         ],
         "LOCATION": [
          "2500 S  SYCAMORE                     AV",
          "3300    SAN MARINO                   ST",
          "1900    TRANSIENT",
          "6200    4TH                          AV",
          "1200 W  7TH                          ST"
         ],
         "Status Desc": [
          "Invest Cont",
          "Invest Cont",
          "Invest Cont",
          "Invest Cont",
          "Invest Cont"
         ],
         "TIME OCC": [
          "1110",
          "1620",
          "1200",
          "0635",
          "0900"
         ],
         "Vict Age": [
          27,
          60,
          28,
          37,
          79
         ],
         "Vict Descent": [
          "B",
          "H",
          "H",
          "H",
          "B"
         ],
         "Vict Sex": [
          "F",
          "M",
          "M",
          "M",
          "M"
         ],
         "Weapon Desc": [
          null,
          null,
          null,
          null,
          null
         ],
         "index": [
          0,
          1,
          2,
          3,
          4
         ]
        },
        "schema": {
         "fields": [
          {
           "name": "index",
           "type": "integer"
          },
          {
           "name": "DR_NO",
           "type": "integer"
          },
          {
           "name": "Date Rptd",
           "type": "string"
          },
          {
           "name": "DATE OCC",
           "type": "string"
          },
          {
           "name": "TIME OCC",
           "type": "string"
          },
          {
           "name": "AREA NAME",
           "type": "string"
          },
          {
           "name": "Crm Cd Desc",
           "type": "string"
          },
          {
           "name": "Vict Age",
           "type": "integer"
          },
          {
           "name": "Vict Sex",
           "type": "string"
          },
          {
           "name": "Vict Descent",
           "type": "string"
          },
          {
           "name": "Weapon Desc",
           "type": "string"
          },
          {
           "name": "Status Desc",
           "type": "string"
          },
          {
           "name": "LOCATION",
           "type": "string"
          }
         ],
         "pandas_version": "1.4.0",
         "primaryKey": [
          "index"
         ]
        }
       },
       "total_rows": 5,
       "truncation_type": null
      },
      "text/html": [
       "<div>\n",
       "<style scoped>\n",
       "    .dataframe tbody tr th:only-of-type {\n",
       "        vertical-align: middle;\n",
       "    }\n",
       "\n",
       "    .dataframe tbody tr th {\n",
       "        vertical-align: top;\n",
       "    }\n",
       "\n",
       "    .dataframe thead th {\n",
       "        text-align: right;\n",
       "    }\n",
       "</style>\n",
       "<table border=\"1\" class=\"dataframe\">\n",
       "  <thead>\n",
       "    <tr style=\"text-align: right;\">\n",
       "      <th></th>\n",
       "      <th>DR_NO</th>\n",
       "      <th>Date Rptd</th>\n",
       "      <th>DATE OCC</th>\n",
       "      <th>TIME OCC</th>\n",
       "      <th>AREA NAME</th>\n",
       "      <th>Crm Cd Desc</th>\n",
       "      <th>Vict Age</th>\n",
       "      <th>Vict Sex</th>\n",
       "      <th>Vict Descent</th>\n",
       "      <th>Weapon Desc</th>\n",
       "      <th>Status Desc</th>\n",
       "      <th>LOCATION</th>\n",
       "    </tr>\n",
       "  </thead>\n",
       "  <tbody>\n",
       "    <tr>\n",
       "      <th>0</th>\n",
       "      <td>220314085</td>\n",
       "      <td>2022-07-22</td>\n",
       "      <td>2020-05-12</td>\n",
       "      <td>1110</td>\n",
       "      <td>Southwest</td>\n",
       "      <td>THEFT OF IDENTITY</td>\n",
       "      <td>27</td>\n",
       "      <td>F</td>\n",
       "      <td>B</td>\n",
       "      <td>NaN</td>\n",
       "      <td>Invest Cont</td>\n",
       "      <td>2500 S  SYCAMORE                     AV</td>\n",
       "    </tr>\n",
       "    <tr>\n",
       "      <th>1</th>\n",
       "      <td>222013040</td>\n",
       "      <td>2022-08-06</td>\n",
       "      <td>2020-06-04</td>\n",
       "      <td>1620</td>\n",
       "      <td>Olympic</td>\n",
       "      <td>THEFT OF IDENTITY</td>\n",
       "      <td>60</td>\n",
       "      <td>M</td>\n",
       "      <td>H</td>\n",
       "      <td>NaN</td>\n",
       "      <td>Invest Cont</td>\n",
       "      <td>3300    SAN MARINO                   ST</td>\n",
       "    </tr>\n",
       "    <tr>\n",
       "      <th>2</th>\n",
       "      <td>220614831</td>\n",
       "      <td>2022-08-18</td>\n",
       "      <td>2020-08-17</td>\n",
       "      <td>1200</td>\n",
       "      <td>Hollywood</td>\n",
       "      <td>THEFT OF IDENTITY</td>\n",
       "      <td>28</td>\n",
       "      <td>M</td>\n",
       "      <td>H</td>\n",
       "      <td>NaN</td>\n",
       "      <td>Invest Cont</td>\n",
       "      <td>1900    TRANSIENT</td>\n",
       "    </tr>\n",
       "    <tr>\n",
       "      <th>3</th>\n",
       "      <td>231207725</td>\n",
       "      <td>2023-02-27</td>\n",
       "      <td>2020-01-27</td>\n",
       "      <td>0635</td>\n",
       "      <td>77th Street</td>\n",
       "      <td>THEFT OF IDENTITY</td>\n",
       "      <td>37</td>\n",
       "      <td>M</td>\n",
       "      <td>H</td>\n",
       "      <td>NaN</td>\n",
       "      <td>Invest Cont</td>\n",
       "      <td>6200    4TH                          AV</td>\n",
       "    </tr>\n",
       "    <tr>\n",
       "      <th>4</th>\n",
       "      <td>220213256</td>\n",
       "      <td>2022-07-14</td>\n",
       "      <td>2020-07-14</td>\n",
       "      <td>0900</td>\n",
       "      <td>Rampart</td>\n",
       "      <td>THEFT OF IDENTITY</td>\n",
       "      <td>79</td>\n",
       "      <td>M</td>\n",
       "      <td>B</td>\n",
       "      <td>NaN</td>\n",
       "      <td>Invest Cont</td>\n",
       "      <td>1200 W  7TH                          ST</td>\n",
       "    </tr>\n",
       "  </tbody>\n",
       "</table>\n",
       "</div>"
      ],
      "text/plain": [
       "       DR_NO   Date Rptd  ...  Status Desc                                 LOCATION\n",
       "0  220314085  2022-07-22  ...  Invest Cont  2500 S  SYCAMORE                     AV\n",
       "1  222013040  2022-08-06  ...  Invest Cont  3300    SAN MARINO                   ST\n",
       "2  220614831  2022-08-18  ...  Invest Cont                        1900    TRANSIENT\n",
       "3  231207725  2023-02-27  ...  Invest Cont  6200    4TH                          AV\n",
       "4  220213256  2022-07-14  ...  Invest Cont  1200 W  7TH                          ST\n",
       "\n",
       "[5 rows x 12 columns]"
      ]
     },
     "execution_count": 101,
     "metadata": {
      "application/com.datacamp.data-table.v2+json": {
       "status": "success"
      }
     },
     "output_type": "execute_result"
    }
   ],
   "source": [
    "# Re-run this cell\n",
    "# Import required libraries\n",
    "import pandas as pd\n",
    "import numpy as np\n",
    "import matplotlib.pyplot as plt\n",
    "import seaborn as sns\n",
    "crimes = pd.read_csv(\"crimes.csv\", dtype={\"TIME OCC\": str})\n",
    "crimes.head()"
   ]
  },
  {
   "cell_type": "code",
   "execution_count": 102,
   "id": "53eada96-447c-46c3-9848-f4ca3de53d06",
   "metadata": {
    "executionCancelledAt": null,
    "executionTime": 75,
    "lastExecutedAt": 1751470726550,
    "lastExecutedByKernel": "960557bc-2175-48b0-9d62-cd65df20081e",
    "lastScheduledRunId": null,
    "lastSuccessfullyExecutedCode": "# Start coding here\n# Use as many cells as you need\nprint(crimes.dtypes)\ncrimes[\"hour\"]=np.floor(crimes[\"TIME OCC\"].astype(int) / 100)\npeak_crime_hour= crimes[\"hour\"].value_counts().index[0].astype(int)\nprint(peak_crime_hour)\ncrimes[\"TIME OCC\"] = crimes[\"TIME OCC\"].astype(int)\ntenpm_to_fouram=crimes[ (crimes['TIME OCC'] < 400) |( crimes['TIME OCC'] >=  2200 )]\nprint(tenpm_to_fouram.head())\npeak_night_crime_location=tenpm_to_fouram[\"AREA NAME\"].value_counts().index[0]\nprint(peak_night_crime_location)\n\nlabels=[\"0-17\",\"18-25\" ,\"26-34\" , \"35-44\", \"45-54\" , \"55-64\" , \"65+\"]\nbins = [0,17,25,34,44,54,64,100]\ncrimes[\"age_range\"]= pd.cut(crimes[\"Vict Age\"], labels=labels , bins=bins)\nvictim_ages = crimes[\"age_range\"].value_counts()\nprint(victim_ages)",
    "outputsMetadata": {
     "0": {
      "height": 500,
      "type": "stream"
     }
    }
   },
   "outputs": [
    {
     "name": "stdout",
     "output_type": "stream",
     "text": [
      "DR_NO            int64\n",
      "Date Rptd       object\n",
      "DATE OCC        object\n",
      "TIME OCC        object\n",
      "AREA NAME       object\n",
      "Crm Cd Desc     object\n",
      "Vict Age         int64\n",
      "Vict Sex        object\n",
      "Vict Descent    object\n",
      "Weapon Desc     object\n",
      "Status Desc     object\n",
      "LOCATION        object\n",
      "dtype: object\n",
      "12\n",
      "        DR_NO   Date Rptd  ...                                  LOCATION  hour\n",
      "8   231207476  2023-02-27  ...   8800    HAAS                         AV   0.0\n",
      "10  221711184  2022-06-15  ...   8300    WHITE OAK                    AV   1.0\n",
      "30  221314362  2022-07-11  ...   1600 E  OLYMPIC                      BL   0.0\n",
      "33  231307252  2023-03-03  ...                          6600 S  BROADWAY  23.0\n",
      "36  221614254  2022-11-13  ...  10200    TELFAIR                      AV   0.0\n",
      "\n",
      "[5 rows x 13 columns]\n",
      "Central\n",
      "26-34    47470\n",
      "35-44    42157\n",
      "45-54    28353\n",
      "18-25    28291\n",
      "55-64    20169\n",
      "65+      14747\n",
      "0-17      4528\n",
      "Name: age_range, dtype: int64\n"
     ]
    }
   ],
   "source": [
    "# Start coding here\n",
    "# Use as many cells as you need\n",
    "print(crimes.dtypes)\n",
    "crimes[\"hour\"]=np.floor(crimes[\"TIME OCC\"].astype(int) / 100)\n",
    "peak_crime_hour= crimes[\"hour\"].value_counts().index[0].astype(int)\n",
    "print(peak_crime_hour)\n",
    "crimes[\"TIME OCC\"] = crimes[\"TIME OCC\"].astype(int)\n",
    "tenpm_to_fouram=crimes[ (crimes['TIME OCC'] < 400) |( crimes['TIME OCC'] >=  2200 )]\n",
    "print(tenpm_to_fouram.head())\n",
    "peak_night_crime_location=tenpm_to_fouram[\"AREA NAME\"].value_counts().index[0]\n",
    "print(peak_night_crime_location)\n",
    "\n",
    "labels=[\"0-17\",\"18-25\" ,\"26-34\" , \"35-44\", \"45-54\" , \"55-64\" , \"65+\"]\n",
    "bins = [0,17,25,34,44,54,64,100]\n",
    "crimes[\"age_range\"]= pd.cut(crimes[\"Vict Age\"], labels=labels , bins=bins)\n",
    "victim_ages = crimes[\"age_range\"].value_counts()\n",
    "print(victim_ages)"
   ]
  }
 ],
 "metadata": {
  "colab": {
   "name": "Welcome to DataCamp Workspaces.ipynb",
   "provenance": []
  },
  "kernelspec": {
   "display_name": "Python 3 (ipykernel)",
   "language": "python",
   "name": "python3"
  },
  "language_info": {
   "codemirror_mode": {
    "name": "ipython",
    "version": 3
   },
   "file_extension": ".py",
   "mimetype": "text/x-python",
   "name": "python",
   "nbconvert_exporter": "python",
   "pygments_lexer": "ipython3",
   "version": "3.9.13"
  }
 },
 "nbformat": 4,
 "nbformat_minor": 5
}
